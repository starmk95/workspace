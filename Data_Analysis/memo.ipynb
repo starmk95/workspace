{
 "cells": [
  {
   "cell_type": "markdown",
   "metadata": {},
   "source": [
    "### 코딩 습관\n",
    "\n",
    "1. 주석달아라 (변수의 타입, 흐름, 함수의 기능, 용도 등 작성)\n",
    "2. 코드 간략화해라\n",
    "3. 코드 재검토해라"
   ]
  }
 ],
 "metadata": {
  "language_info": {
   "name": "python"
  }
 },
 "nbformat": 4,
 "nbformat_minor": 2
}
