{
 "cells": [
  {
   "cell_type": "code",
   "execution_count": null,
   "metadata": {},
   "outputs": [
    {
     "name": "stdout",
     "output_type": "stream",
     "text": [
      "Hello, World, and how are you?\n"
     ]
    }
   ],
   "source": [
    "# 두 문장을 합치는 함수 정의\n",
    "def join_sentences_lcel(sentence1, sentence2):\n",
    "    # 첫 번째 문장의 마지막 문자(기호 포함)를 제외하고, 두 번째 문장은 소문자로 변환한 후 두 문장을 연결\n",
    "    return f\"{sentence1[:-1]}, and {sentence2.lower()}\"\n",
    "\n",
    "# 함수 사용 예시\n",
    "sentence1 = \"Hello, World!\"  # 첫 번째 문장\n",
    "sentence2 = \"How are you?\"   # 두 번째 문장\n",
    "\n",
    "# 두 문장을 합쳐서 출력할 결과 생성\n",
    "lcel_output = join_sentences_lcel(sentence1, sentence2)\n",
    "\n",
    "# 결과 출력\n",
    "print(lcel_output)\n"
   ]
  }
 ],
 "metadata": {
  "kernelspec": {
   "display_name": "Python 3",
   "language": "python",
   "name": "python3"
  },
  "language_info": {
   "codemirror_mode": {
    "name": "ipython",
    "version": 3
   },
   "file_extension": ".py",
   "mimetype": "text/x-python",
   "name": "python",
   "nbconvert_exporter": "python",
   "pygments_lexer": "ipython3",
   "version": "3.11.9"
  }
 },
 "nbformat": 4,
 "nbformat_minor": 2
}
