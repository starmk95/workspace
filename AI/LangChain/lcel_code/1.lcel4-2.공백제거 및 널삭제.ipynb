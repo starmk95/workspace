{
 "cells": [
  {
   "cell_type": "code",
   "execution_count": null,
   "metadata": {},
   "outputs": [
    {
     "name": "stdout",
     "output_type": "stream",
     "text": [
      "[적용된 연산: ['strip_whitespace', 'remove_nulls']] -> [정제된 데이터: [{'name': 'Alice', 'age': 25}, {'age': 30}, {'name': 'Bob'}]]\n"
     ]
    }
   ],
   "source": [
    "def clean_data_lcel(data, operations):\n",
    "    \"\"\" 정제된 데이터를 저장할 리스트 \"\"\"\n",
    "    cleaned_data = []\n",
    "    \n",
    "    for item in data:\n",
    "        new_item = item.copy()\n",
    "        \n",
    "        # 문자열에서 앞뒤 공백 제거\n",
    "        if \"strip_whitespace\" in operations:\n",
    "            new_item = {key: value.strip() if isinstance(value, str) else value for key, value in new_item.items()}\n",
    "            # value.strip()은 문자열 양쪽의 공백을 제거하는 함수입니다. strip()은 문자열의 시작과 끝에 있는 공백, 탭, 줄 바꿈 등을 제거합니다.\n",
    "        \n",
    "        # null 또는 None 값을 가진 항목 제거\n",
    "        if \"remove_nulls\" in operations:\n",
    "            new_item = {key: value for key, value in new_item.items() if value is not None}\n",
    "        \n",
    "        # 데이터가 비어 있지 않으면 추가\n",
    "        if new_item:\n",
    "            cleaned_data.append(new_item)\n",
    "    \n",
    "    return f\"[적용된 연산: {operations}] -> [정제된 데이터: {cleaned_data}]\"\n",
    "\n",
    "# 예제 실행\n",
    "data = [\n",
    "    {\"name\": \" Alice \", \"age\": 25},\n",
    "    {\"name\": None, \"age\": 30},\n",
    "    {\"name\": \" Bob \", \"age\": None}\n",
    "]\n",
    "\n",
    "operations = [\"strip_whitespace\", \"remove_nulls\"]\n",
    "lcel_output = clean_data_lcel(data, operations)\n",
    "print(lcel_output)\n"
   ]
  }
 ],
 "metadata": {
  "kernelspec": {
   "display_name": "Python 3",
   "language": "python",
   "name": "python3"
  },
  "language_info": {
   "codemirror_mode": {
    "name": "ipython",
    "version": 3
   },
   "file_extension": ".py",
   "mimetype": "text/x-python",
   "name": "python",
   "nbconvert_exporter": "python",
   "pygments_lexer": "ipython3",
   "version": "3.11.9"
  }
 },
 "nbformat": 4,
 "nbformat_minor": 2
}
