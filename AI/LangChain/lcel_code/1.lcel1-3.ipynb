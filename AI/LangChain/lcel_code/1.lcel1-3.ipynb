{
 "cells": [
  {
   "cell_type": "code",
   "execution_count": null,
   "metadata": {},
   "outputs": [
    {
     "name": "stdout",
     "output_type": "stream",
     "text": [
      "[Transformation: lowercase] -> hello, world!\n"
     ]
    }
   ],
   "source": [
    "# 주어진 텍스트와 모드를 기반으로 텍스트를 변환하는 함수 정의\n",
    "def convert_word_lcel(text, mode):\n",
    "    # 만약 모드가 \"lowercase\"라면 텍스트를 소문자로 변환\n",
    "    if mode == \"lowercase\":\n",
    "        transformed_text = text.lower()\n",
    "    # 만약 모드가 \"uppercase\"라면 텍스트를 대문자로 변환\n",
    "    elif mode == \"uppercase\":\n",
    "        transformed_text = text.upper()\n",
    "    # 만약 모드가 \"capitalize\"라면 텍스트를 첫 글자만 대문자로 변환\n",
    "    elif mode == \"capitalize\":\n",
    "        transformed_text = text.capitalize()\n",
    "    else:\n",
    "        # 모드가 이 세 가지와 일치하지 않으면 변환하지 않고 원본 텍스트를 그대로 반환\n",
    "        transformed_text = text  # Default case (no transformation)\n",
    "\n",
    "    # 변환된 텍스트와 변환 모드를 출력 형식에 맞게 반환\n",
    "    return f\"[Transformation: {mode}] -> {transformed_text}\"\n",
    "\n",
    "# 함수 사용 예시\n",
    "text = \"Hello, World!\"  # 변환할 텍스트\n",
    "mode = \"lowercase\"  # 변환 모드 (\"lowercase\", \"uppercase\", \"capitalize\")\n",
    "lcel_output = convert_word_lcel(text, mode)  # 함수를 호출하여 결과 저장\n",
    "\n",
    "# 결과 출력\n",
    "print(lcel_output)\n"
   ]
  }
 ],
 "metadata": {
  "kernelspec": {
   "display_name": "Python 3",
   "language": "python",
   "name": "python3"
  },
  "language_info": {
   "codemirror_mode": {
    "name": "ipython",
    "version": 3
   },
   "file_extension": ".py",
   "mimetype": "text/x-python",
   "name": "python",
   "nbconvert_exporter": "python",
   "pygments_lexer": "ipython3",
   "version": "3.11.9"
  }
 },
 "nbformat": 4,
 "nbformat_minor": 2
}
