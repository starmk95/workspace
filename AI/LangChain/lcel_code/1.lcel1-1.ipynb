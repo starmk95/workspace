{
 "cells": [
  {
   "cell_type": "code",
   "execution_count": null,
   "metadata": {},
   "outputs": [
    {
     "name": "stdout",
     "output_type": "stream",
     "text": [
      "2\n"
     ]
    }
   ],
   "source": [
    "# count_words 함수 정의\n",
    "def count_words(text):\n",
    "    return len(text.split())\n",
    "\n",
    "# 간단한 LCEL 환경을 정의하는 딕셔너리\n",
    "# count_words 함수를 lcel_env 딕셔너리에 추가\n",
    "lcel_env = {\n",
    "    \"count_words\": count_words\n",
    "}\n",
    "\n",
    "# LCEL 명령어를 파이썬 코드로 실행하는 방식\n",
    "# expression에는 count_words 함수를 호출하는 명령어가 들어있음\n",
    "expression = 'count_words(\"Hello, World!\")'\n",
    "# expression을 eval 함수로 실행하면 lcel_env 딕셔너리에 있는 count_words 함수가 실행됨\n",
    "# {}는 eval 함수에 전달할 로컬 변수를 의미함\n",
    "# lcel_env 딕셔너리에 count_words 함수가 정의되어 있으므로 eval 함수가 이를 실행함\n",
    "result = eval(expression, {}, lcel_env)\n",
    "\n",
    "# result에는 count_words 함수의 반환값인 2가 들어있음\n",
    "print(result)  # 출력: 2\n"
   ]
  }
 ],
 "metadata": {
  "kernelspec": {
   "display_name": "Python 3",
   "language": "python",
   "name": "python3"
  },
  "language_info": {
   "codemirror_mode": {
    "name": "ipython",
    "version": 3
   },
   "file_extension": ".py",
   "mimetype": "text/x-python",
   "name": "python",
   "nbconvert_exporter": "python",
   "pygments_lexer": "ipython3",
   "version": "3.11.9"
  }
 },
 "nbformat": 4,
 "nbformat_minor": 2
}
